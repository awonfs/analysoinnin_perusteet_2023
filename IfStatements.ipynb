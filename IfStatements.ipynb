{
 "cells": [
  {
   "cell_type": "code",
   "execution_count": 31,
   "metadata": {},
   "outputs": [
    {
     "name": "stdout",
     "output_type": "stream",
     "text": [
      "name1 is equal to name3\n"
     ]
    }
   ],
   "source": [
    "## Declare three variables number1, number2 and number3. Assign values to the variables\n",
    "## \n",
    "## \n",
    "## \n",
    "## \n",
    "## \n",
    "\n",
    "number1 = 40\n",
    "number2 = 60\n",
    "number3 = 40\n",
    "name1 = \"John\"\n",
    "name2 = \"Johnny\"\n",
    "name3 = \"John\"\n",
    "\n",
    "if name1 == name2:\n",
    "    print(\"name1 is not equal to name2\")\n",
    "elif name1 == name3:\n",
    "    print(\"name1 is equal to name3\")\n"
   ]
  },
  {
   "cell_type": "code",
   "execution_count": null,
   "metadata": {},
   "outputs": [],
   "source": []
  }
 ],
 "metadata": {
  "kernelspec": {
   "display_name": "Python 3",
   "language": "python",
   "name": "python3"
  },
  "language_info": {
   "codemirror_mode": {
    "name": "ipython",
    "version": 3
   },
   "file_extension": ".py",
   "mimetype": "text/x-python",
   "name": "python",
   "nbconvert_exporter": "python",
   "pygments_lexer": "ipython3",
   "version": "3.12.0"
  }
 },
 "nbformat": 4,
 "nbformat_minor": 2
}
