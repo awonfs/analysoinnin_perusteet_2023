{
 "cells": [
  {
   "cell_type": "code",
   "execution_count": 13,
   "metadata": {},
   "outputs": [
    {
     "name": "stdout",
     "output_type": "stream",
     "text": [
      "Sofa\n"
     ]
    }
   ],
   "source": [
    "furnitures = ['chair', 'table', 'desk', 'lamp', 'bed', \"Sofa\"]\n",
    "## Change the app so that only first two elements of the list are printed\n",
    "\n",
    "\n",
    "\n",
    "for furnitures in furnitures:\n",
    "  if furnitures == \"Sofa\":\n",
    "    print(furnitures)"
   ]
  }
 ],
 "metadata": {
  "kernelspec": {
   "display_name": "Python 3",
   "language": "python",
   "name": "python3"
  },
  "language_info": {
   "codemirror_mode": {
    "name": "ipython",
    "version": 3
   },
   "file_extension": ".py",
   "mimetype": "text/x-python",
   "name": "python",
   "nbconvert_exporter": "python",
   "pygments_lexer": "ipython3",
   "version": "3.12.0"
  }
 },
 "nbformat": 4,
 "nbformat_minor": 2
}
